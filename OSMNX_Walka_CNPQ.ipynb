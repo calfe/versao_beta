{
  "nbformat": 4,
  "nbformat_minor": 0,
  "metadata": {
    "colab": {
      "provenance": []
    },
    "kernelspec": {
      "name": "python3",
      "display_name": "Python 3"
    },
    "language_info": {
      "name": "python"
    }
  },
  "cells": [
    {
      "cell_type": "code",
      "source": [
        "!pip install osmnx"
      ],
      "metadata": {
        "id": "QL2_qABvM8c8"
      },
      "execution_count": null,
      "outputs": []
    },
    {
      "cell_type": "markdown",
      "source": [
        "Usar \"!pip install osmnx\" para baixar a biblioteca *osmnx*, que, ao contrário das demais bibliotecas necessárias, não está previamente instalada no Colab. Se, posteriormente, ao tentar importar a biblioteca *osmnx*, aparecer o erro:\n",
        "\n",
        "\"**AttributeError: module 'numpy' has no attribute '_no_nep50_warning'**\"\n",
        "\n",
        "Isso pode acontecer caso a versão da biblioteca *numpy* seja 1.24.0.\n",
        "\n",
        "Usar os comandos:\n",
        "\n",
        "\n",
        "*   Digitar \"y\" quando solicitado.\n",
        "\n"
      ],
      "metadata": {
        "id": "J9IqRl433xEm"
      }
    },
    {
      "cell_type": "code",
      "source": [
        "!pip uninstall numpy \n",
        "!pip install numpy<1.23.0"
      ],
      "metadata": {
        "id": "kcNaRb-rNCbO"
      },
      "execution_count": null,
      "outputs": []
    },
    {
      "cell_type": "markdown",
      "source": [
        "Se, ao importar a biblioteca *osmnx*, aparecer o erro:\n",
        "\n",
        "\"**ImportError: cannot import name 'BoundsOp' from 'shapely.coords'**\n",
        "\n",
        "Usar os comandos:\n",
        "\n",
        "*   Digitar \"y\" quando solicitado.\n",
        "\n",
        "\n"
      ],
      "metadata": {
        "id": "qP6FHnt3gjQx"
      }
    },
    {
      "cell_type": "code",
      "source": [
        "!pip uninstall shapely\n",
        "!pip install shapely"
      ],
      "metadata": {
        "id": "CHWDGldDhA1c"
      },
      "execution_count": null,
      "outputs": []
    },
    {
      "cell_type": "markdown",
      "source": [
        "Se, durante o código, no trecho referente à produção das imagens, aparecer o erro:\n",
        "\n",
        "\"**Cannot import name '_png' from matplotlib**\"\n",
        "\n",
        "Isso pode acontecer caso a versão da biblioteca *matplotlib* seja 3.7.0.\n",
        "\n",
        "Usar os comandos:\n",
        "*   Digitar \"y\" quando solicitado.\n",
        "\n",
        "\n"
      ],
      "metadata": {
        "id": "re0egAk6OFLU"
      }
    },
    {
      "cell_type": "code",
      "source": [
        "!pip uninstall matplotlib\n",
        "!pip install matplotlib==3.1.3"
      ],
      "metadata": {
        "id": "BUPCXdcEOYr0"
      },
      "execution_count": null,
      "outputs": []
    },
    {
      "cell_type": "markdown",
      "source": [
        "Primeiramente, importar a classe drive do módulo *google.colab* para ter acesso aos arquivos presentes no seu Google Drive. Clicar em “Conectar ao Google Drive”, escolher a conta com a qual vai fazer login e permitir acesso ao Google Drive."
      ],
      "metadata": {
        "id": "D9Ey-4SB3tVf"
      }
    },
    {
      "cell_type": "code",
      "execution_count": null,
      "metadata": {
        "id": "2SIjyBpOyxGd",
        "colab": {
          "base_uri": "https://localhost:8080/"
        },
        "outputId": "f0300000-c999-45b2-a20e-2bd68e55b4fd"
      },
      "outputs": [
        {
          "output_type": "stream",
          "name": "stdout",
          "text": [
            "Mounted at /content/drive\n"
          ]
        }
      ],
      "source": [
        "from google.colab import drive\n",
        "drive.mount('/content/drive')"
      ]
    },
    {
      "cell_type": "code",
      "source": [
        "import osmnx as ox\n",
        "import networkx as nx\n",
        "import pandas as pd\n",
        "import matplotlib\n",
        "import openpyxl\n",
        "import numpy as np"
      ],
      "metadata": {
        "id": "2pzTEpH1PLN3"
      },
      "execution_count": null,
      "outputs": []
    },
    {
      "cell_type": "markdown",
      "source": [
        "O código Python abaixo tem como objetivo calcular estatísticas de acessibilidade da malha urbana para cidades brasileiras, utilizando a **biblioteca OSMnx**.\n",
        "\n",
        "Primeiramente, são importadas as bibliotecas necessárias para a execução do código, tais como pandas, openpyxl, osmnx e matplotlib.\n",
        "\n",
        "Em seguida, **é criado um arquivo Excel (chamado de \"cidades_comDM_stats.xlsx\")** utilizando a biblioteca pandas e o engine openpyxl.\n",
        "\n",
        "O arquivo **\"BR_cidades_comDM_20230301_UTF8.csv\"** é lido e armazenado na variável \"cidades\".\n",
        "\n",
        "Essa tabela contém informações de cidades brasileiras como nome, UF, latitude, longitude, entre outras.\n",
        "\n",
        "A seguir, é **definida uma função chamada \"calculo_malha\"** que recebe três parâmetros:\n",
        "\n",
        "1. \"cidades\" (a tabela de cidades),\n",
        "\n",
        "2. \"malha\" (o tipo de malha a ser calculada, podendo ser \"all\" ou \"bike\") e\n",
        "\n",
        "3. \"planilha\" (o nome da planilha do arquivo Excel onde serão armazenados os resultados).\n",
        "\n",
        "Essa função é responsável por calcular as estatísticas de acessibilidade para cada cidade, armazenar os resultados em um dicionário e, por fim, escrever esses resultados em uma planilha Excel.\n",
        "\n",
        "Dentro da função \"calculo_malha\", é criado um dicionário vazio chamado \"df_final\" que será preenchido com os resultados de cada cidade.\n",
        "\n",
        "Além disso, são criados mais dois dicionários vazios chamados \"df_counts\" e \"df_proportions\" que serão utilizados para armazenar algumas estatísticas específicas.\n",
        "\n",
        "A partir de um loop que itera sobre cada cidade na tabela \"cidades\", a função calcula as estatísticas para cada cidade.\n",
        "\n",
        "Para cada cidade, também **é gerada uma imagem da malha urbana** utilizando a função \"ox.plot_figure_ground\", que salva a imagem em um **formato .png na pasta \"images\".**\n",
        "\n",
        "Em seguida, é calculada a área da cidade e as estatísticas básicas utilizando a função \"ox.basic_stats\". Os resultados são armazenados no dicionário \"df_final\".\n",
        "\n",
        "Depois de calcular as estatísticas para todas as cidades, o dicionário \"df_final\" é dividido em dois dicionários separados: \"df_counts\" e \"df_proportions\".\n",
        "O primeiro armazena as contagens de trechos por nó da malha urbana, enquanto o segundo armazena as proporções de trechos por nó.\n",
        "Esses dicionários são criados a partir de um loop que itera sobre cada cidade na tabela \"cidades\" e preenche os dicionários com as estatísticas correspondentes.\n",
        "\n",
        "Em seguida, são realizadas algumas transformações nos nomes das colunas dos dicionários para facilitar a análise posterior.\n",
        "Após essas transformações, as colunas dos dicionários \"df_counts\" e \"df_proportions\" são combinadas e adicionadas ao dicionário \"df_final\".\n",
        "\n",
        "Por fim, os resultados são escritos em uma planilha Excel utilizando a função \"to_excel\" da biblioteca pandas.\n",
        "\n",
        "O nome da planilha é determinado pelo parâmetro \"planilha\" passado para a função \"calculo_malha\".\n",
        "\n",
        "O arquivo *.xlsx* só terá algum dado dentro dele ao final de toda iteração de cada malha. De outra forma, ficará vazio."
      ],
      "metadata": {
        "id": "7Rw7LIAohbbe"
      }
    },
    {
      "cell_type": "code",
      "source": [
        "#Criação do arquivo final que irá armezenar todos os dados\n",
        "arquivo = pd.ExcelWriter('cidades_comDM_stats.xlsx', engine='openpyxl')\n",
        "\n",
        "#Leitura dos dados do csv presente no drive\n",
        "cidades = pd.read_csv(\"/content/drive/MyDrive/CNPQ - Mobilidade Ativa e Saúde/3_Trabalho/WP1_MACRO_BE/BE/BR_cidades_comDM_20230301_UTF8.csv\",\n",
        "                      sep = ';', decimal=',')\n",
        "\n",
        "#Função que produz as imagens e calcula as estatísticas\n",
        "def calculo_malha(cidades, malha, planilha):\n",
        "    #Define os dicionários que serão usados. O primeiro contém a chave que armazenará as cidades\n",
        "    df_final = {'Cidade': [], 'Código IBGE': []}\n",
        "    df_counts = {}\n",
        "    df_proportions = {}\n",
        "\n",
        "    ## CÓDIGO PARA SALVAR OS PNG EM ALGUMA PASTA PERENE\n",
        "\n",
        "    #Define o nome da pasta em que a foto será salva, o formato das imagens e os pontos por polegada\n",
        "    img_pasta = \"images\"\n",
        "    formato = \"png\"\n",
        "    ppp = 96\n",
        "\n",
        "    #Loop que corre as cidades no csv do drive\n",
        "    for nome in cidades['municipio_formatado']:\n",
        "        \n",
        "        #Define a string para geração dos grafos pegando os valores (Estado e País)\n",
        "        # correspondentes a mesma linha da cidade\n",
        "        lugar = ('{}, {}, {}'.format\n",
        "                 ((cidades.loc[cidades['municipio_formatado'] == nome]['municipio_formatado'].values),\n",
        "                  (cidades.loc[cidades['municipio_formatado'] == nome]['uf_completo'].values),\n",
        "                  (cidades.loc[cidades['municipio_formatado'] == nome]['pais'].values)))\n",
        "        \n",
        "        #Adiciona o nome da cidade e código IBGE à chave 'Cidade' e 'Código IBGE\"\n",
        "        df_final['Cidade'].append(nome)\n",
        "        df_final['Código IBGE'].append(cidades.loc[cidades['municipio_formatado'] == nome]['ibge'].values)\n",
        "                \n",
        "        #Geração do grafo\n",
        "        graph = ox.graph_from_place(lugar, network_type = malha)\n",
        "        \n",
        "        gdf = ox.geocode_to_gdf(lugar)\n",
        "        area = ox.project_gdf(gdf).unary_union.area\n",
        "        \n",
        "        #Cálculo das estatísticas básicas a partir da área\n",
        "        stats = ox.basic_stats(graph, area = area)\n",
        "        \n",
        "        #Acrescentar as estatísticas ao dicionário\n",
        "        print('{}: '.format(lugar))\n",
        "        for k in stats.items():\n",
        "            df_final.setdefault(k[0], []).append(k[1])\n",
        "            \n",
        "            print('{} = {}'.format(k[0], k[1]))\n",
        "\n",
        "        #Input para imprimir ou não os cálculos de distância dos nodos\n",
        "        distancia_nodos = str(input(\"Imprimir closenness centrality e betweenness centrality para {}? (s/n) \".format(lugar))).lower().strip()\n",
        "        if distancia_nodos == 's':\n",
        "          print('Closeness centrality: {}'.format(np.mean(list(nx.closeness_centrality(graph).values()))))\n",
        "          print('Betweenness centrality: {}'.format(np.mean(list(nx.betweenness_centrality(graph, weight = 'length').values()))))      \n",
        "\n",
        "        #Caso a malha não seja 'bike', input para plotar ou não figura da malha \n",
        "        if malha != 'bike':\n",
        "\n",
        "          plot_imagem = str(input(\"Imprimir imagem da malha de {}? (s/n) \".format(lugar))).lower().strip()\n",
        "          if plot_imagem == 's':\n",
        "              fp = \"./{}/{}_{}.{}\".format(img_pasta, lugar, malha, formato)\n",
        "              fig, ax = ox.plot_figure_ground(\n",
        "                address = lugar,\n",
        "                dist = 1600,\n",
        "                network_type= malha,\n",
        "                default_width = 1, \n",
        "                filepath = fp,\n",
        "                dpi = ppp,\n",
        "                save = True,\n",
        "                close=True)\n",
        "\n",
        "    #Loops para separar os dicionários das variáveis \n",
        "    # 'streets_per_node_counts' e 'streets_per_node_proportions'\n",
        "    for j in df_final['streets_per_node_counts']:\n",
        "           for counts in j.items():\n",
        "               df_counts.setdefault((counts[0]), [])    \n",
        "                \n",
        "    for key1 in df_counts.keys():\n",
        "            df_counts[key1] = [\n",
        "                d1.get(key1, 0) for d1 in df_final['streets_per_node_counts']\n",
        "                ]           \n",
        "                \n",
        "    for l in df_final['streets_per_node_proportions']:\n",
        "            for proportions in l.items():\n",
        "                df_proportions.setdefault((proportions[0]), [])\n",
        "                \n",
        "    for key2 in df_proportions.keys():\n",
        "            df_proportions[key2] = [   \n",
        "                d2.get(key2, 0) for d2 in df_final['streets_per_node_proportions']\n",
        "                ]           \n",
        "      \n",
        "    for nome_counts in list(df_counts.keys()).copy():\n",
        "        df_counts[\"{} way_int_count\"\n",
        "                  .format(nome_counts)] = df_counts[nome_counts]\n",
        "        del df_counts[nome_counts]\n",
        "      \n",
        "    for nome_proportions in list(df_proportions.keys()).copy():\n",
        "        df_proportions[\"{} way_int_prop\"\n",
        "                  .format(nome_proportions)] = df_proportions[nome_proportions]\n",
        "        del df_proportions[nome_proportions]\n",
        "\n",
        "    #Deletar as colunas originais\n",
        "    del df_final['streets_per_node_counts']\n",
        "    del df_final['streets_per_node_proportions']\n",
        "\n",
        "    #Adicionar os dicionários uns aos outros\n",
        "    df_counts.update(df_proportions)\n",
        "    df_final.update(df_counts)\n",
        "\n",
        "    #Transformar em dataframe\n",
        "    indicadores = pd.DataFrame.from_dict(df_final)\n",
        "\n",
        "    #Transformar em arquivo excel\n",
        "    indicadores.to_excel(arquivo, sheet_name = planilha)\n",
        "\n",
        "\n",
        "#Malha geral\n",
        "calculo_malha(cidades, 'all', 'planilha1')\n",
        "\n",
        "#Malha cicloviária\n",
        "bike_malha = str(input('Calcular para a malha cicloviária? (s/n) ')).lower().split()\n",
        "if bike_malha == 's':\n",
        "  calculo_malha(cidades, 'bike', 'planilha2')\n",
        "\n",
        "#Opção para deletar os dicionários\n",
        "#del df_counts, df_proportions, df_final\n",
        "\n",
        "arquivo.close()"
      ],
      "metadata": {
        "id": "d2dXdxacMLcZ"
      },
      "execution_count": null,
      "outputs": []
    }
  ]
}