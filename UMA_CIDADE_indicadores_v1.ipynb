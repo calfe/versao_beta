{
  "cells": [
    {
      "cell_type": "markdown",
      "metadata": {
        "id": "view-in-github",
        "colab_type": "text"
      },
      "source": [
        "<a href=\"https://colab.research.google.com/github/urban-mobility-rsc/research-v0/blob/main/UMA_CIDADE_indicadores_v1.ipynb\" target=\"_parent\"><img src=\"https://colab.research.google.com/assets/colab-badge.svg\" alt=\"Open In Colab\"/></a>"
      ]
    },
    {
      "cell_type": "markdown",
      "metadata": {
        "id": "Sqk1OREpD4WX"
      },
      "source": [
        "# **0. Preparo do ambiente**"
      ]
    },
    {
      "cell_type": "code",
      "execution_count": null,
      "metadata": {
        "id": "C4k3QzzJD2-l"
      },
      "outputs": [],
      "source": [
        "# essas bibliotecas estão rodando. vê-se no output que há alguns problemas de versão de pacotes que operam muitas vezes dentro destas bibliotecas.\n",
        "# O erro se evidenciará caso a importação (o passo seguinte), não proceda corretamente. Caso isso ocorra,\n",
        "# o melhor caminho é desinstalar e instalar novamente algum, o que sempre resolve as eventuais incompatibilidades.\n",
        "# outras bibliotecas, adicionadas para indicadores pontuais ao longo deste arquivo, devem depois ser verificadas e colocadas aqui, \n",
        "# visando uma instalação direta e única de todas as bibliotecas necessárias.\n",
        "\n",
        "!pip install geobr --quiet\n",
        "!pip install geopandas --quiet\n",
        "!pip install pandas --quiet\n",
        "!pip install shapely --quiet\n",
        "!pip install osmnx --quiet\n",
        "!pip install matplotlib==3.5 --quiet\n",
        "!pip install numpy==1.22 --quiet\n",
        "!pip install networkx --quiet"
      ]
    },
    {
      "cell_type": "code",
      "execution_count": null,
      "metadata": {
        "id": "w_hnKXxiKIhV"
      },
      "outputs": [],
      "source": [
        "#mesma coisa aqui, importar todas de uma só vez\n",
        "\n",
        "import geobr\n",
        "import geopandas as gpd\n",
        "import pandas as pd\n",
        "import shapely\n",
        "import matplotlib\n",
        "from matplotlib import pyplot as plt\n",
        "import numpy as np\n",
        "import networkx as nx\n",
        "import osmnx as ox"
      ]
    },
    {
      "cell_type": "markdown",
      "source": [
        "# 0.1 Definições preliminares"
      ],
      "metadata": {
        "id": "jsOvK5fFjz2u"
      }
    },
    {
      "cell_type": "code",
      "execution_count": null,
      "metadata": {
        "id": "H-nZLU5kvcQK"
      },
      "outputs": [],
      "source": [
        "#definição da cidade - ou conjunto de cidades - a ser calculada.\n",
        "#Usa-se depois com recorrência essa variável, afim de evitar a necessidade de escrever o tempo todo o nome da cidade, estado, país.\n",
        "\n",
        "cidade = 'Porto Alegre, Rio Grande do Sul, Brazil'"
      ]
    },
    {
      "cell_type": "code",
      "execution_count": null,
      "metadata": {
        "id": "snwy5Qs2glYe"
      },
      "outputs": [],
      "source": [
        "#Há já em outro arquivo um web scraping que pega a população da cidade a partir de seu nome em outro arquivo de colab.\n",
        "#para viabilizar os indicadores aqui calculados, foi criada diretamente a variável da população com o dado mais recente do IBGE\n",
        "pop = 1492530"
      ]
    },
    {
      "cell_type": "code",
      "execution_count": null,
      "metadata": {
        "id": "9MMWvKDj92NI"
      },
      "outputs": [],
      "source": [
        "# para eventuais necessidades, de forma análoga à população, aqui se tem o código do município no IBGE\n",
        "code = 4314902"
      ]
    },
    {
      "cell_type": "code",
      "source": [
        "# download da malha de ruas\n",
        "graph = ox.graph_from_place(cidade, network_type='all')"
      ],
      "metadata": {
        "id": "nJbxjLydwZ_i"
      },
      "execution_count": null,
      "outputs": []
    },
    {
      "cell_type": "code",
      "source": [
        "# download dos edifícios da malha. Com esse comando, todos os indicadores que precisam de área construída se tornam possíveis.\n",
        "tags = {\"building\": True} \n",
        "buildings = ox.geometries_from_place(cidade, tags)"
      ],
      "metadata": {
        "id": "4DNIGExrwne5"
      },
      "execution_count": null,
      "outputs": []
    },
    {
      "cell_type": "code",
      "execution_count": null,
      "metadata": {
        "colab": {
          "base_uri": "https://localhost:8080/"
        },
        "id": "gDwm4Z08g-po",
        "outputId": "2b1ff370-10aa-4264-c0bc-08db12bef284"
      },
      "outputs": [
        {
          "output_type": "stream",
          "name": "stdout",
          "text": [
            "493.34050767517596\n"
          ]
        }
      ],
      "source": [
        "#área total da cidade [km2]\n",
        "place = ox.geocode_to_gdf(cidade)\n",
        "place_proj = ox.project_gdf(place)\n",
        "area_mun_km = place_proj.area.iloc[0] / 1000000\n",
        "print(area_mun_km)"
      ]
    },
    {
      "cell_type": "code",
      "execution_count": null,
      "metadata": {
        "colab": {
          "base_uri": "https://localhost:8080/"
        },
        "id": "-QDllHgThgJ3",
        "outputId": "1e193f11-2858-4dab-a88a-501b8f7793d7"
      },
      "outputs": [
        {
          "output_type": "stream",
          "name": "stdout",
          "text": [
            "49334.0507675176\n"
          ]
        }
      ],
      "source": [
        "#área total da cidade [hectare]\n",
        "area_mun_ha = area_mun_km * 100\n",
        "print(area_mun_ha)"
      ]
    },
    {
      "cell_type": "code",
      "execution_count": null,
      "metadata": {
        "id": "QL0g_oQ8L9vC"
      },
      "outputs": [],
      "source": [
        "#número de domicílios permanentes em Porto Alegre [IBGE]. \n",
        "#Com testes de API, optou-se por colocar aqui o valor diretamente a partir do IBGE.\n",
        "dom = 508456"
      ]
    },
    {
      "cell_type": "code",
      "execution_count": null,
      "metadata": {
        "id": "jesD7q9bds6J"
      },
      "outputs": [],
      "source": [
        "# extração dos dados de número de pavimentos de cada edifício da cidade e transformação desse dado em número.\n",
        "buildings['building:levels'].fillna(3, inplace=True)\n",
        "building_levels = buildings['building:levels'].dropna().astype(int)"
      ]
    },
    {
      "cell_type": "markdown",
      "metadata": {
        "id": "XVwvb-2lo_Ff"
      },
      "source": [
        "Para todos os indicadores a partir daqui, optou-se pela nomenclatura temporária que corresponde à ordem dos indicadores listados no excel / dicionário. Ao invés de \"população por km²\", por exemplo, o indicador se chama um_um. Pois é o primeiro indicador do primeiro conjunto de indicadores, no caso, densidade. O segundo indicador do conjunto densidade, \"densidade de domicílios\", se chama um_dois, e assim por diante."
      ]
    },
    {
      "cell_type": "markdown",
      "metadata": {
        "id": "KsCEihqvD_b0"
      },
      "source": [
        "# **1 - Densidade**"
      ]
    },
    {
      "cell_type": "markdown",
      "metadata": {
        "id": "Zl6IrDWawdqq"
      },
      "source": [
        "Os indicadores são calculados a partir das constantes previamente definidas"
      ]
    },
    {
      "cell_type": "markdown",
      "metadata": {
        "id": "ck7UUp_demaQ"
      },
      "source": [
        "## Geral/Básica"
      ]
    },
    {
      "cell_type": "code",
      "execution_count": null,
      "metadata": {
        "colab": {
          "base_uri": "https://localhost:8080/"
        },
        "id": "8glF5Jcvh_-Z",
        "outputId": "d3f26c3e-a351-4d4a-99c3-476812217ed2"
      },
      "outputs": [
        {
          "output_type": "stream",
          "name": "stdout",
          "text": [
            "3025.3546521720205\n"
          ]
        }
      ],
      "source": [
        "#1.1 população por km2\n",
        "um_um = pop / area_mun_km\n",
        "#um_um = pop / area_mun_ha\n",
        "print(um_um)"
      ]
    },
    {
      "cell_type": "code",
      "execution_count": null,
      "metadata": {
        "colab": {
          "base_uri": "https://localhost:8080/"
        },
        "id": "EWeieJDZjXF1",
        "outputId": "b3467ef2-39e3-4fdc-cabe-c6aaac174f1b"
      },
      "outputs": [
        {
          "output_type": "stream",
          "name": "stdout",
          "text": [
            "10.306390658980234\n"
          ]
        }
      ],
      "source": [
        "#1.2 Densidade de domicílios na cidade [household density]\n",
        "um_dois = dom / area_mun_ha\n",
        "print(um_dois)"
      ]
    },
    {
      "cell_type": "code",
      "execution_count": null,
      "metadata": {
        "colab": {
          "base_uri": "https://localhost:8080/"
        },
        "id": "aRjOLzeajtl1",
        "outputId": "b859c324-554a-482c-a5b4-2b81e4cb77b7"
      },
      "outputs": [
        {
          "output_type": "stream",
          "name": "stdout",
          "text": [
            "2.9354162405399875\n"
          ]
        }
      ],
      "source": [
        "#1.3 ocupação média dos lares [household occupancy]\n",
        "um_tres = pop / dom\n",
        "print(um_tres)"
      ]
    },
    {
      "cell_type": "code",
      "source": [
        "#1.4 Índice de aproveitamento bruto [m²/m²] - Área total construída da cidade dividida pela área total da cidade.\n",
        "\n",
        "# A area de cada edifício\n",
        "buildings = buildings.to_crs('EPSG:32722')\n",
        "buildings['footprint_area'] = buildings['geometry'].area\n",
        "buildings['building:levels'].fillna(4, inplace=True)\n",
        "\n",
        "# Soma das áeras dos pavimentos de cada edifício\n",
        "total_constructed_area = 0\n",
        "for index, row in buildings.iterrows():\n",
        "    levels = row['building:levels']\n",
        "    if levels is not None:\n",
        "        total_constructed_area += row['footprint_area'] * int(levels)\n",
        "\n",
        "#transformação da informação \"níveis\" de cada edifício em número, pois fica cadastrado como texto\n",
        "buildings['building:levels'] = buildings['building:levels'].astype(float)\n",
        "\n",
        "# Calculo da área total construída da cidade, multiplicando a projeção de cada edificio pelo seu número de pavimentos\n",
        "area_total_construida = (buildings['geometry'].area * buildings['building:levels']).sum()\n",
        "\n",
        "#divisão da área total construída pela área da cidade\n",
        "um_quatro = area_total_construida / (area_mun_km * 1000000)\n",
        "print(um_quatro)"
      ],
      "metadata": {
        "colab": {
          "base_uri": "https://localhost:8080/"
        },
        "id": "yf1HGdxmz7R-",
        "outputId": "fefd9193-369b-47aa-9885-dd4d76ad44b0"
      },
      "execution_count": null,
      "outputs": [
        {
          "output_type": "stream",
          "name": "stdout",
          "text": [
            "0.34271018207562015\n"
          ]
        }
      ]
    },
    {
      "cell_type": "code",
      "source": [
        "#1.5 Taxa de ocupação bruta [m²/m²] - Soma das projeções de todas as edificações da cidade dividida pela área total da cidade\n",
        "um_cinco = buildings['geometry'].area.sum() / (area_mun_km * 1000000)\n",
        "print(um_cinco)"
      ],
      "metadata": {
        "colab": {
          "base_uri": "https://localhost:8080/"
        },
        "id": "qrbth2kF5WQq",
        "outputId": "7e6df2f2-9144-4568-c439-bc3611ea16d2"
      },
      "execution_count": null,
      "outputs": [
        {
          "output_type": "stream",
          "name": "stdout",
          "text": [
            "0.11227754848963084\n"
          ]
        }
      ]
    },
    {
      "cell_type": "markdown",
      "metadata": {
        "id": "106Tb4mUe7lh"
      },
      "source": [
        "## Áreas públicas, vias e privadas"
      ]
    },
    {
      "cell_type": "code",
      "source": [
        "#1.6 Soma das áreas abertas e públicas (com rua) [% da área total da cidade]\n",
        "\n",
        "#dificuldade nesse item, especialmente em calcular área das vias.\n",
        "\n",
        "tags = {'landuse': 'public'}\n",
        "gdf_pub = ox.geometries_from_place(cidade, tags)\n",
        "pub_proj = ox.project_gdf(gdf_pub)\n",
        "prep_area_pub = pub_proj.area\n",
        "area_pub = sum(prep_area_pub)\n",
        "um_seis = area_pub/(area_mun_km*10000)\n",
        "print(um_seis)"
      ],
      "metadata": {
        "id": "15F665LvDqip"
      },
      "execution_count": null,
      "outputs": []
    },
    {
      "cell_type": "code",
      "execution_count": null,
      "metadata": {
        "id": "NwpLkS-dqGlZ"
      },
      "outputs": [],
      "source": [
        "#1.7 Soma das áreas abertas e públicas (com rua) [área em hectares]\n",
        "tags = {'leisure': True}\n",
        "\n",
        "# download dos polígonos de espaços considerados públicos\n",
        "public_leisure = ox.geometries.geometries_from_place(cidade, tags)\n",
        "\n",
        "# retirar todas as ruas do GeoDataFrame\n",
        "public_leisure = public_leisure[public_leisure.geometry.type != 'LineString']\n",
        "\n",
        "# Calcular a área total\n",
        "um_sete = public_leisure.area.sum()\n",
        "print(um_sete)"
      ]
    },
    {
      "cell_type": "code",
      "source": [
        "# 1.8 Soma das áreas privadas [%]\n",
        "#não há dados referentes aos lotes de Porto Alegre disponíveis. O osmnx reconhece literalmente 2 lotes na cidade de Porto Alegre toda.\n",
        "# uma vez que se resolva as áreas privadas ou públicas, o outro estará também resolvido.\n",
        "\n",
        "tags = {'landuse': 'residential', 'building': 'yes'}\n",
        "gdf = ox.geometries_from_place(cidade, tags)\n",
        "\n",
        "# remover polígonos com use residencial que se sobrepõem a vias\n",
        "gdf = gdf[~gdf.intersects(gdf[gdf[\"landuse\"] == \"highway\"].unary_union)]\n",
        "gdf = gdf[~gdf.intersects(gdf[gdf[\"landuse\"] == \"waterway\"].unary_union)]\n",
        "\n",
        "um_oito = gdf.area.sum() / (area_mun_km*10000)\n",
        "print(um_oito)"
      ],
      "metadata": {
        "id": "P-P4fSrohzCQ"
      },
      "execution_count": null,
      "outputs": []
    },
    {
      "cell_type": "code",
      "execution_count": null,
      "metadata": {
        "id": "aamWop__qUG2"
      },
      "outputs": [],
      "source": [
        "# 1.9 Soma das áreas privadas [área em hectare]\n",
        "#não há dados referentes aos lotes de Porto Alegre disponíveis. O osmnx reconhece literalmente 2 lotes na cidade toda.\n",
        "# uma vez que se resolva as áreas privadas ou públicas, o outro estará também resolvido.\n",
        "\n",
        "tags = {'landuse': 'residential', 'building': 'yes'}\n",
        "buildings = buildings.to_crs('EPSG:32722')\n",
        "gdf = ox.geometries_from_place(cidade, tags)\n",
        "um_nove = gdf.area.sum()\n",
        "print(um_nove)"
      ]
    },
    {
      "cell_type": "code",
      "execution_count": null,
      "metadata": {
        "colab": {
          "base_uri": "https://localhost:8080/"
        },
        "id": "dXXJH8mF352N",
        "outputId": "28c243b3-3179-4315-d86e-0a722f0efcc3"
      },
      "outputs": [
        {
          "output_type": "stream",
          "name": "stdout",
          "text": [
            "0.1749866333869611\n"
          ]
        }
      ],
      "source": [
        "#1.10 Áreas abertas e de lazer relativo à área total da cidade [%]\n",
        "tags = {'leisure': ['bathing_place', 'common', 'garden', 'park', 'track'], 'place': 'square'}\n",
        "gdf_lazer = ox.geometries_from_place(cidade, tags)\n",
        "lazer_proj = ox.project_gdf(gdf_lazer)\n",
        "prep_area_lazer = lazer_proj.area\n",
        "area_lazer = sum(prep_area_lazer)\n",
        "um_dez = area_lazer/(area_mun_km*100000)\n",
        "print(um_dez)"
      ]
    },
    {
      "cell_type": "code",
      "execution_count": null,
      "metadata": {
        "colab": {
          "base_uri": "https://localhost:8080/"
        },
        "id": "5cvSj6IW51b-",
        "outputId": "050437c9-8f0a-408d-afd8-592ec96e5ef6"
      },
      "outputs": [
        {
          "output_type": "stream",
          "name": "stdout",
          "text": [
            "8632799.455149328\n"
          ]
        }
      ],
      "source": [
        "#1.11 Áreas abertas e de lazer [m²]\n",
        "tags = {'leisure': ['bathing_place', 'common', 'garden', 'park', 'track'], 'place': 'square'}\n",
        "gdf_lazer = ox.geometries_from_place(cidade, tags)\n",
        "lazer_proj = ox.project_gdf(gdf_lazer)\n",
        "prep_area_lazer = lazer_proj.area\n",
        "area_lazer = sum(prep_area_lazer)\n",
        "um_onze = area_lazer\n",
        "print(um_onze)"
      ]
    },
    {
      "cell_type": "markdown",
      "metadata": {
        "id": "INbGtvkzEM8g"
      },
      "source": [
        "# **2 - Diversidade / Destinos**"
      ]
    },
    {
      "cell_type": "markdown",
      "metadata": {
        "id": "DE71GQLIiWgM"
      },
      "source": [
        "Os primeiros indicadores da lista completa proposta por AUTORES, ANO classificados como diversidade são referentes às:\n",
        "\n",
        "**A.**   Quantidades de determinados tipos de equipamento (2.1 a 2.8);\n",
        "\n",
        "**B.** Área relativa de cada equipamento por habitante da cidade - usando aqui projeção das edificações, sem levar em consideração a soma das áreas de diferentes pavimentos (2.9 a 2.16);\n",
        "\n",
        "**C.** Média da quantidade de população por equipamento (2.17 a 2.24);\n",
        "\n",
        "**D.**   Distância média dos habitantes até o equipamento mais próximo (2.25 a 2.32) [a fazer];\n",
        "\n",
        "**E.**   Distância média dos habitantes até os 5 equipamentos mais próximos (2.33 a 2.40) [a fazer].\n",
        "\n",
        "\n",
        "De maneira complementar, além dos indicadores de *Daily Living Score* (2.41) e caminhabilidade (2.42) consideramos também como indicadores de diversidade alguns dos propostos no projeto de 1000 Cidades Sustentáveis, como percentual da população que reside a até no máximo 500m de determinado tipo de equipamento ou comércio."
      ]
    },
    {
      "cell_type": "markdown",
      "metadata": {
        "id": "oB673dXGfQTI"
      },
      "source": [
        "## A. QUANTIDADES ABSOLUTAS"
      ]
    },
    {
      "cell_type": "code",
      "execution_count": null,
      "metadata": {
        "colab": {
          "base_uri": "https://localhost:8080/"
        },
        "id": "yrEMpTOektR_",
        "outputId": "10b0a8b9-922f-4fc0-87db-46dfcb978c7d"
      },
      "outputs": [
        {
          "output_type": "stream",
          "name": "stdout",
          "text": [
            "436\n"
          ]
        }
      ],
      "source": [
        "#2.1 Quantidade de escolas na cidade\n",
        "tags = {'amenity': 'school'}\n",
        "gdf_escolas = ox.geometries_from_place(cidade, tags)\n",
        "gdf_escolas.shape\n",
        "dois_um = len(gdf_escolas)\n",
        "print(dois_um)"
      ]
    },
    {
      "cell_type": "code",
      "execution_count": null,
      "metadata": {
        "colab": {
          "base_uri": "https://localhost:8080/"
        },
        "id": "u9ywg6EVmcHr",
        "outputId": "b702b80c-4f14-4501-a06b-c76a19d3f492"
      },
      "outputs": [
        {
          "output_type": "stream",
          "name": "stdout",
          "text": [
            "85\n"
          ]
        }
      ],
      "source": [
        "#2.2 Quantidade de pré-escolas e creches na cidade\n",
        "tags = {'amenity': ['kindergarten']}\n",
        "gdf_bebes = ox.geometries_from_place(cidade, tags)\n",
        "gdf_bebes.shape\n",
        "dois_dois = len(gdf_bebes)\n",
        "print(dois_dois)"
      ]
    },
    {
      "cell_type": "code",
      "execution_count": null,
      "metadata": {
        "colab": {
          "base_uri": "https://localhost:8080/"
        },
        "id": "mLDF6AXzms7g",
        "outputId": "e09d09fc-334d-4f22-a825-18a7ae07f6c3"
      },
      "outputs": [
        {
          "name": "stdout",
          "output_type": "stream",
          "text": [
            "31\n"
          ]
        }
      ],
      "source": [
        "#2.3 Quantidade de universidades na cidade\n",
        "tags = {'amenity': 'university'}\n",
        "gdf_uni = ox.geometries_from_place(cidade, tags)\n",
        "gdf_uni.shape\n",
        "dois_tres = len(gdf_uni)\n",
        "print(dois_tres)"
      ]
    },
    {
      "cell_type": "code",
      "execution_count": null,
      "metadata": {
        "colab": {
          "base_uri": "https://localhost:8080/"
        },
        "id": "dyPuSTDpnB84",
        "outputId": "67942d6a-1347-4e05-8711-5f0d28678591"
      },
      "outputs": [
        {
          "name": "stdout",
          "output_type": "stream",
          "text": [
            "114\n"
          ]
        }
      ],
      "source": [
        "#2.4 Quantidade de equipamentos culturais na cidade\n",
        "tags = {'amenity': ['arts_centre', 'cinema', 'planetarium', 'theatre', 'library']}\n",
        "gdf_bebes = ox.geometries_from_place(cidade, tags)\n",
        "gdf_bebes.shape\n",
        "dois_quatro = len(gdf_bebes)\n",
        "print(dois_quatro)"
      ]
    },
    {
      "cell_type": "code",
      "execution_count": null,
      "metadata": {
        "colab": {
          "base_uri": "https://localhost:8080/"
        },
        "id": "EIC9N8KZnFX7",
        "outputId": "f6ec3cde-724b-4aec-94a2-be6a420eb27e"
      },
      "outputs": [
        {
          "name": "stdout",
          "output_type": "stream",
          "text": [
            "134\n"
          ]
        }
      ],
      "source": [
        "#2.5 Quantidade de unidades de saúde na cidade\n",
        "tags = {'amenity': ['clinic', 'hospital']}\n",
        "gdf_saude = ox.geometries_from_place(cidade, tags)\n",
        "gdf_saude.shape\n",
        "dois_cinco = len(gdf_saude)\n",
        "print(dois_cinco)"
      ]
    },
    {
      "cell_type": "code",
      "execution_count": null,
      "metadata": {
        "colab": {
          "base_uri": "https://localhost:8080/"
        },
        "id": "vVlPbyfepYbf",
        "outputId": "d6e3304a-9f98-4d8d-c5fa-56f73a8e6122"
      },
      "outputs": [
        {
          "name": "stdout",
          "output_type": "stream",
          "text": [
            "281\n"
          ]
        }
      ],
      "source": [
        "#2.6 Quantidade de supermercados na cidade\n",
        "tags = {'building': 'supermarket', 'shop': ['convenience', 'supermarket']}\n",
        "gdf_merc = ox.geometries_from_place(cidade, tags)\n",
        "gdf_merc.shape\n",
        "dois_seis = len(gdf_merc)\n",
        "print(dois_seis)"
      ]
    },
    {
      "cell_type": "code",
      "execution_count": null,
      "metadata": {
        "colab": {
          "base_uri": "https://localhost:8080/"
        },
        "id": "DRwKlsrZoZG5",
        "outputId": "68ff9002-396e-4155-ad63-f22ee291a1ff"
      },
      "outputs": [
        {
          "name": "stdout",
          "output_type": "stream",
          "text": [
            "262\n"
          ]
        }
      ],
      "source": [
        "#2.7 Quantidade de templos e igrejas na cidade\n",
        "tags = {'amenity': 'place_of_worship'}\n",
        "gdf_god = ox.geometries_from_place(cidade, tags)\n",
        "gdf_god.shape\n",
        "dois_sete = len(gdf_god)\n",
        "print(dois_sete)"
      ]
    },
    {
      "cell_type": "code",
      "source": [
        "#2.8 Quantidade de shoppings na cidade\n",
        "tags = {'shop': 'mall'}\n",
        "gdf_god = ox.geometries_from_place(cidade, tags)\n",
        "gdf_god.shape\n",
        "dois_oito = len(gdf_god)\n",
        "print(dois_oito)"
      ],
      "metadata": {
        "id": "FDxOCbK5yCZc"
      },
      "execution_count": null,
      "outputs": []
    },
    {
      "cell_type": "markdown",
      "metadata": {
        "id": "sf_PfyAXfU9P"
      },
      "source": [
        "## B. ÁREAS POR HABITANTE"
      ]
    },
    {
      "cell_type": "code",
      "execution_count": null,
      "metadata": {
        "colab": {
          "base_uri": "https://localhost:8080/"
        },
        "id": "0VjR5agML88r",
        "outputId": "f381083b-d500-47ff-a920-d5a131c87a55"
      },
      "outputs": [
        {
          "output_type": "stream",
          "name": "stdout",
          "text": [
            "0.550692816331085\n"
          ]
        }
      ],
      "source": [
        "# 2.9 Área de escolas por habitante [m²/hab]\n",
        "escolas = ox.geometries_from_place(cidade, {'building': ['school']})\n",
        "escolas_proj = ox.project_gdf(escolas)\n",
        "prep_area_escolas = escolas_proj.area\n",
        "area_escolas = sum(prep_area_escolas)\n",
        "dois_nove = area_escolas / pop\n",
        "print(dois_nove)"
      ]
    },
    {
      "cell_type": "code",
      "execution_count": null,
      "metadata": {
        "colab": {
          "base_uri": "https://localhost:8080/"
        },
        "id": "YT9-e9U6rI04",
        "outputId": "c002b4c9-bec9-4486-9fa2-de11098113bc"
      },
      "outputs": [
        {
          "name": "stdout",
          "output_type": "stream",
          "text": [
            "0.04201471972484124\n"
          ]
        }
      ],
      "source": [
        "# 2.10 Área de pre-escolas e creches por habitante [m²/hab]\n",
        "creches = ox.geometries_from_place(cidade, {'amenity': 'kindergarten'})\n",
        "creches_proj = ox.project_gdf(creches)\n",
        "prep_area_creches = creches_proj.area\n",
        "area_creches = sum(prep_area_creches)\n",
        "dois_nove = area_creches / pop\n",
        "print(dois_dez)"
      ]
    },
    {
      "cell_type": "code",
      "execution_count": null,
      "metadata": {
        "colab": {
          "base_uri": "https://localhost:8080/"
        },
        "id": "eETTtT09sOEL",
        "outputId": "4dd0482b-0da4-4b29-dea4-533124c9eb6d"
      },
      "outputs": [
        {
          "name": "stdout",
          "output_type": "stream",
          "text": [
            "2.053301571434765\n"
          ]
        }
      ],
      "source": [
        "# 2.11 Área de universidades por habitante [m²/hab]\n",
        "unis = ox.geometries_from_place(cidade, {'amenity': 'university'})\n",
        "unis_proj = ox.project_gdf(unis)\n",
        "prep_area_unis = unis_proj.area\n",
        "area_unis = sum(prep_area_unis)\n",
        "dois_onze = area_unis / pop\n",
        "print(dois_onze)"
      ]
    },
    {
      "cell_type": "code",
      "execution_count": null,
      "metadata": {
        "colab": {
          "base_uri": "https://localhost:8080/"
        },
        "id": "WclHNXWtssmO",
        "outputId": "3664f264-150e-41e0-f478-b7f1a4457ce3"
      },
      "outputs": [
        {
          "name": "stdout",
          "output_type": "stream",
          "text": [
            "0.20189449234888632\n"
          ]
        }
      ],
      "source": [
        "# 2.12 Área de equipamentos culturais por habitante [m²/hab]\n",
        "cult = ox.geometries_from_place(cidade, {'amenity': ['arts_centre', 'cinema', 'planetarium', 'theatre', 'library']})\n",
        "cult_proj = ox.project_gdf(cult)\n",
        "prep_area_cult = cult_proj.area\n",
        "area_cult = sum(prep_area_cult)\n",
        "dois_doze = area_cult / pop\n",
        "print(dois_doze)"
      ]
    },
    {
      "cell_type": "code",
      "execution_count": null,
      "metadata": {
        "colab": {
          "base_uri": "https://localhost:8080/"
        },
        "id": "CvOxnD6osybQ",
        "outputId": "7ffdc1e6-b558-4a52-e693-3e7c2eb44dd6"
      },
      "outputs": [
        {
          "name": "stdout",
          "output_type": "stream",
          "text": [
            "0.4795402983269602\n"
          ]
        }
      ],
      "source": [
        "# 2.13 Área de unidades de saúde por habitante [m²/hab]\n",
        "saude = ox.geometries_from_place(cidade, {'amenity': ['clinic', 'hospital']})\n",
        "saude_proj = ox.project_gdf(saude)\n",
        "prep_area_saude = saude_proj.area\n",
        "area_saude = sum(prep_area_saude)\n",
        "dois_treze = area_saude / pop\n",
        "print(dois_treze)"
      ]
    },
    {
      "cell_type": "code",
      "execution_count": null,
      "metadata": {
        "colab": {
          "base_uri": "https://localhost:8080/"
        },
        "id": "EZZfQmsktycb",
        "outputId": "2ab9788c-634d-4358-ee78-2bea98d47e1b"
      },
      "outputs": [
        {
          "name": "stdout",
          "output_type": "stream",
          "text": [
            "0.303392643504787\n"
          ]
        }
      ],
      "source": [
        "# 2.14 Área de supermercados por habitante [m²/hab]\n",
        "mercado = ox.geometries_from_place(cidade, {'building': 'supermarket', 'shop': ['convenience', 'supermarket']})\n",
        "mercado_proj = ox.project_gdf(mercado)\n",
        "prep_area_mercado = mercado_proj.area\n",
        "area_mercado = sum(prep_area_mercado)\n",
        "dois_catorze = area_mercado / pop\n",
        "print(dois_catorze)"
      ]
    },
    {
      "cell_type": "code",
      "execution_count": null,
      "metadata": {
        "colab": {
          "base_uri": "https://localhost:8080/"
        },
        "id": "Va-NZ_SDuyXC",
        "outputId": "b092c594-0dbd-4a6c-aa90-16a5dc427c8d"
      },
      "outputs": [
        {
          "name": "stdout",
          "output_type": "stream",
          "text": [
            "0.10707249115347348\n"
          ]
        }
      ],
      "source": [
        "# 2.15 Área de templos e igrejas por habitante [m²/hab]\n",
        "templo = ox.geometries_from_place(cidade, {'amenity': 'place_of_worship'})\n",
        "templo_proj = ox.project_gdf(templo)\n",
        "prep_area_templo = templo_proj.area\n",
        "area_templo = sum(prep_area_templo)\n",
        "dois_quinze = area_templo / pop\n",
        "print(dois_quinze)"
      ]
    },
    {
      "cell_type": "code",
      "source": [
        "# 2.16 Área de shoppings por habitante [m²/hab]\n",
        "shop = ox.geometries_from_place(cidade, {'shop': 'mall'})\n",
        "shop_proj = ox.project_gdf(shop)\n",
        "prep_area_shop = shop_proj.area\n",
        "area_shop = sum(prep_area_shop)\n",
        "dois_dezesseis = area_shop / pop\n",
        "print(dois_dezesseis)"
      ],
      "metadata": {
        "id": "TZGLQzy7zvEP"
      },
      "execution_count": null,
      "outputs": []
    },
    {
      "cell_type": "markdown",
      "metadata": {
        "id": "GnMphcwff753"
      },
      "source": [
        "## C. QUANTIDADE POR HABITANTE"
      ]
    },
    {
      "cell_type": "code",
      "execution_count": null,
      "metadata": {
        "colab": {
          "base_uri": "https://localhost:8080/"
        },
        "outputId": "eed01164-049d-4a59-c001-d41ae0c82526",
        "id": "EBE3euoGkhho"
      },
      "outputs": [
        {
          "output_type": "stream",
          "name": "stdout",
          "text": [
            "3423.233944954128\n"
          ]
        }
      ],
      "source": [
        "#2.17 Quantidade de habitantes por escola\n",
        "dois_dezessete = pop/dois_um\n",
        "print(dois_dezessete)"
      ]
    },
    {
      "cell_type": "code",
      "execution_count": null,
      "metadata": {
        "colab": {
          "base_uri": "https://localhost:8080/"
        },
        "outputId": "4af04a41-2a73-4e25-d29f-4d53d6c625e7",
        "id": "tpnt05eJkhhq"
      },
      "outputs": [
        {
          "output_type": "stream",
          "name": "stdout",
          "text": [
            "17559.176470588234\n"
          ]
        }
      ],
      "source": [
        "#2.18 Quantidade de habitantes por pré-escolas e creches na cidade\n",
        "dois_dezoito = pop / dois_dois\n",
        "print(dois_dezoito)"
      ]
    },
    {
      "cell_type": "code",
      "execution_count": null,
      "metadata": {
        "id": "12_XJpo-khhr"
      },
      "outputs": [],
      "source": [
        "#2.19 Quantidade de habitantes por universidades na cidade\n",
        "dois_dezenove = pop / dois_tres\n",
        "print(dois_dezenove)"
      ]
    },
    {
      "cell_type": "code",
      "execution_count": null,
      "metadata": {
        "id": "5WvHv6T0khhr"
      },
      "outputs": [],
      "source": [
        "#2.20 Quantidade de habitantes por equipamentos culturais na cidade\n",
        "dois_vinte = pop / dois_quatro\n",
        "print(dois_vinte)"
      ]
    },
    {
      "cell_type": "code",
      "execution_count": null,
      "metadata": {
        "id": "moQU2blgkhhs"
      },
      "outputs": [],
      "source": [
        "#2.21 Quantidade de habitantes por unidades de saúde na cidade\n",
        "dois_vinte_um = pop / dois_cinco\n",
        "print(dois_vinte_um)"
      ]
    },
    {
      "cell_type": "code",
      "execution_count": null,
      "metadata": {
        "id": "0GrsEK8Fkhhs"
      },
      "outputs": [],
      "source": [
        "#2.22 Quantidade de habitantes por supermercados na cidade\n",
        "dois_vinte_dois = pop / dois_seis\n",
        "print(dois_vinte_dois)"
      ]
    },
    {
      "cell_type": "code",
      "execution_count": null,
      "metadata": {
        "id": "illpWeflkhht"
      },
      "outputs": [],
      "source": [
        "#2.23 Quantidade de habitantes por templos e igrejas na cidade\n",
        "dois_vinte_tres = pop / dois_sete\n",
        "print(dois_vinte_tres)"
      ]
    },
    {
      "cell_type": "code",
      "source": [
        "#2.24 Quantidade de habitantes por shoppings na cidade\n",
        "dois_vinte_quatro = pop / dois_oito\n",
        "print(dois_vinte_quatro)"
      ],
      "metadata": {
        "id": "K1rE1x-60db6"
      },
      "execution_count": null,
      "outputs": []
    },
    {
      "cell_type": "markdown",
      "metadata": {
        "id": "NBKoOYcj5kGf"
      },
      "source": [
        "# **3 - Design / acessibilidade**"
      ]
    },
    {
      "cell_type": "markdown",
      "metadata": {
        "id": "6rGFlt3VgmZW"
      },
      "source": [
        "## Malha viária - medidas de rede"
      ]
    },
    {
      "cell_type": "code",
      "execution_count": null,
      "metadata": {
        "id": "hoknSjtcD6Y4"
      },
      "outputs": [],
      "source": [
        "#3.1 a 3.5 são adquiridos a partir de estatísticas do grafo"
      ]
    },
    {
      "cell_type": "markdown",
      "metadata": {
        "id": "3WW3W86uKUax"
      },
      "source": [
        "### Estatísticas BÁSICAS da malha/grafo"
      ]
    },
    {
      "cell_type": "code",
      "execution_count": null,
      "metadata": {
        "colab": {
          "base_uri": "https://localhost:8080/"
        },
        "id": "fvQ5SfIsGVhp",
        "outputId": "b1b3f056-7332-4c75-b95d-4d25a15d4688"
      },
      "outputs": [
        {
          "output_type": "stream",
          "name": "stdout",
          "text": [
            "7183\n"
          ]
        }
      ],
      "source": [
        "#contagem da quantidade de ruas\n",
        "tags = {'highway': ['motorway', 'trunk', 'primary', 'secondary', 'tertiary']}\n",
        "gdf_ruas = ox.geometries_from_place(cidade, tags)\n",
        "gdf_ruas.shape\n",
        "qtd_ruas = len(gdf_ruas)\n",
        "print(qtd_ruas)"
      ]
    },
    {
      "cell_type": "code",
      "execution_count": null,
      "metadata": {
        "colab": {
          "base_uri": "https://localhost:8080/"
        },
        "id": "PRLPWdIiCAJA",
        "outputId": "04d021b4-c906-41a2-efc2-d31f4b0d538f"
      },
      "outputs": [
        {
          "output_type": "stream",
          "name": "stdout",
          "text": [
            "7790020.116000083\n"
          ]
        }
      ],
      "source": [
        "# extensão da malha (m)\n",
        "ext = ox.stats.edge_length_total(graph)\n",
        "print(ext)"
      ]
    },
    {
      "cell_type": "code",
      "execution_count": null,
      "metadata": {
        "id": "6dhKX55_OqOy"
      },
      "outputs": [],
      "source": [
        "# calcula a área do envelope da malha para gerar medidas de DENSIDADE\n",
        "gdf = ox.geocode_to_gdf(cidade)\n",
        "area = ox.project_gdf(gdf).unary_union.area\n",
        "graph = ox.graph_from_place(cidade, network_type=\"drive\")"
      ]
    },
    {
      "cell_type": "code",
      "execution_count": null,
      "metadata": {
        "colab": {
          "base_uri": "https://localhost:8080/"
        },
        "id": "-_2f-8OUE7dl",
        "outputId": "749b02c9-c527-4332-84ff-8c3e8c72513d"
      },
      "outputs": [
        {
          "name": "stdout",
          "output_type": "stream",
          "text": [
            "{'n': 20542, 'm': 48804, 'k_avg': 4.751630805179632, 'edge_length_total': 5411966.665999915, 'edge_length_avg': 110.89186677321358, 'streets_per_node_avg': 2.8630123649109143, 'streets_per_node_counts': {0: 0, 1: 3569, 2: 46, 3: 12641, 4: 4208, 5: 73, 6: 4, 7: 1}, 'streets_per_node_proportions': {0: 0.0, 1: 0.17374160257034368, 2: 0.0022393145750170384, 3: 0.6153733813650083, 4: 0.2048486028624282, 5: 0.0035536948690487783, 6: 0.0001947230065232207, 7: 4.868075163080518e-05}, 'intersection_count': 16973, 'street_length_total': 3209541.9620000185, 'street_segment_count': 29398, 'street_length_avg': 109.17552085175925, 'circuity_avg': 1.0391787981619747, 'self_loop_proportion': 0.0008163820668072658, 'node_density_km': 41.638583656554694, 'intersection_density_km': 34.404229403305564, 'edge_density_km': 10970.043168567952, 'street_density_km': 6505.733691167387}\n"
          ]
        }
      ],
      "source": [
        "# estatísticas BÁSICAS da malha COM MEDIDAS DE DENSIDADE (precisam da área). Estruturar com Guilherme o uso dos dados gerados aqui em tabelas a serem exportadas.\n",
        "basic_stats = ox.stats.basic_stats(graph, area=area)\n",
        "print(basic_stats)"
      ]
    },
    {
      "cell_type": "code",
      "execution_count": null,
      "metadata": {
        "colab": {
          "base_uri": "https://localhost:8080/"
        },
        "id": "bRAeZ33NDMbr",
        "outputId": "b5bc9f71-43c2-4422-b4d5-46593af82026"
      },
      "outputs": [
        {
          "data": {
            "text/plain": [
              "n                                                                           20542\n",
              "m                                                                           48804\n",
              "k_avg                                                                    4.751631\n",
              "edge_length_total                                                     5411966.666\n",
              "edge_length_avg                                                        110.891867\n",
              "streets_per_node_avg                                                     2.863012\n",
              "streets_per_node_counts         {0: 0, 1: 3569, 2: 46, 3: 12641, 4: 4208, 5: 7...\n",
              "streets_per_node_proportions    {0: 0.0, 1: 0.17374160257034368, 2: 0.00223931...\n",
              "intersection_count                                                          16973\n",
              "street_length_total                                                   3209541.962\n",
              "street_segment_count                                                        29398\n",
              "street_length_avg                                                      109.175521\n",
              "circuity_avg                                                             1.039179\n",
              "self_loop_proportion                                                     0.000816\n",
              "node_density_km                                                         41.638584\n",
              "intersection_density_km                                                 34.404229\n",
              "edge_density_km                                                      10970.043169\n",
              "street_density_km                                                     6505.733691\n",
              "dtype: object"
            ]
          },
          "execution_count": 36,
          "metadata": {},
          "output_type": "execute_result"
        }
      ],
      "source": [
        "# estatísticas BÁSICAS da malha COM MEDIDAS DE DENSIDADE em formato lista\n",
        "pandas.Series(basic_stats)"
      ]
    },
    {
      "cell_type": "code",
      "execution_count": null,
      "metadata": {
        "colab": {
          "base_uri": "https://localhost:8080/",
          "height": 799
        },
        "id": "p2Oc60mzUAWU",
        "outputId": "0525d019-0885-474b-db56-b95ac355411a"
      },
      "outputs": [
        {
          "data": {
            "text/html": [
              "\n",
              "  <div id=\"df-c44d4cb2-a975-4266-ba49-8061f18efe38\">\n",
              "    <div class=\"colab-df-container\">\n",
              "      <div>\n",
              "<style scoped>\n",
              "    .dataframe tbody tr th:only-of-type {\n",
              "        vertical-align: middle;\n",
              "    }\n",
              "\n",
              "    .dataframe tbody tr th {\n",
              "        vertical-align: top;\n",
              "    }\n",
              "\n",
              "    .dataframe thead th {\n",
              "        text-align: right;\n",
              "    }\n",
              "</style>\n",
              "<table border=\"1\" class=\"dataframe\">\n",
              "  <thead>\n",
              "    <tr style=\"text-align: right;\">\n",
              "      <th></th>\n",
              "      <th>value</th>\n",
              "    </tr>\n",
              "  </thead>\n",
              "  <tbody>\n",
              "    <tr>\n",
              "      <th>n</th>\n",
              "      <td>20542.000</td>\n",
              "    </tr>\n",
              "    <tr>\n",
              "      <th>m</th>\n",
              "      <td>48804.000</td>\n",
              "    </tr>\n",
              "    <tr>\n",
              "      <th>k_avg</th>\n",
              "      <td>4.752</td>\n",
              "    </tr>\n",
              "    <tr>\n",
              "      <th>edge_length_total</th>\n",
              "      <td>5411966.666</td>\n",
              "    </tr>\n",
              "    <tr>\n",
              "      <th>edge_length_avg</th>\n",
              "      <td>110.892</td>\n",
              "    </tr>\n",
              "    <tr>\n",
              "      <th>streets_per_node_avg</th>\n",
              "      <td>2.863</td>\n",
              "    </tr>\n",
              "    <tr>\n",
              "      <th>intersection_count</th>\n",
              "      <td>16973.000</td>\n",
              "    </tr>\n",
              "    <tr>\n",
              "      <th>street_length_total</th>\n",
              "      <td>3209541.962</td>\n",
              "    </tr>\n",
              "    <tr>\n",
              "      <th>street_segment_count</th>\n",
              "      <td>29398.000</td>\n",
              "    </tr>\n",
              "    <tr>\n",
              "      <th>street_length_avg</th>\n",
              "      <td>109.176</td>\n",
              "    </tr>\n",
              "    <tr>\n",
              "      <th>circuity_avg</th>\n",
              "      <td>1.039</td>\n",
              "    </tr>\n",
              "    <tr>\n",
              "      <th>self_loop_proportion</th>\n",
              "      <td>0.001</td>\n",
              "    </tr>\n",
              "    <tr>\n",
              "      <th>node_density_km</th>\n",
              "      <td>41.639</td>\n",
              "    </tr>\n",
              "    <tr>\n",
              "      <th>intersection_density_km</th>\n",
              "      <td>34.404</td>\n",
              "    </tr>\n",
              "    <tr>\n",
              "      <th>edge_density_km</th>\n",
              "      <td>10970.043</td>\n",
              "    </tr>\n",
              "    <tr>\n",
              "      <th>street_density_km</th>\n",
              "      <td>6505.734</td>\n",
              "    </tr>\n",
              "    <tr>\n",
              "      <th>0way_int_count</th>\n",
              "      <td>0.000</td>\n",
              "    </tr>\n",
              "    <tr>\n",
              "      <th>1way_int_count</th>\n",
              "      <td>3569.000</td>\n",
              "    </tr>\n",
              "    <tr>\n",
              "      <th>2way_int_count</th>\n",
              "      <td>46.000</td>\n",
              "    </tr>\n",
              "    <tr>\n",
              "      <th>3way_int_count</th>\n",
              "      <td>12641.000</td>\n",
              "    </tr>\n",
              "    <tr>\n",
              "      <th>4way_int_count</th>\n",
              "      <td>4208.000</td>\n",
              "    </tr>\n",
              "    <tr>\n",
              "      <th>5way_int_count</th>\n",
              "      <td>73.000</td>\n",
              "    </tr>\n",
              "    <tr>\n",
              "      <th>6way_int_count</th>\n",
              "      <td>4.000</td>\n",
              "    </tr>\n",
              "    <tr>\n",
              "      <th>7way_int_count</th>\n",
              "      <td>1.000</td>\n",
              "    </tr>\n",
              "    <tr>\n",
              "      <th>0way_int_prop</th>\n",
              "      <td>0.000</td>\n",
              "    </tr>\n",
              "    <tr>\n",
              "      <th>1way_int_prop</th>\n",
              "      <td>0.174</td>\n",
              "    </tr>\n",
              "    <tr>\n",
              "      <th>2way_int_prop</th>\n",
              "      <td>0.002</td>\n",
              "    </tr>\n",
              "    <tr>\n",
              "      <th>3way_int_prop</th>\n",
              "      <td>0.615</td>\n",
              "    </tr>\n",
              "    <tr>\n",
              "      <th>4way_int_prop</th>\n",
              "      <td>0.205</td>\n",
              "    </tr>\n",
              "    <tr>\n",
              "      <th>5way_int_prop</th>\n",
              "      <td>0.004</td>\n",
              "    </tr>\n",
              "    <tr>\n",
              "      <th>6way_int_prop</th>\n",
              "      <td>0.000</td>\n",
              "    </tr>\n",
              "    <tr>\n",
              "      <th>7way_int_prop</th>\n",
              "      <td>0.000</td>\n",
              "    </tr>\n",
              "  </tbody>\n",
              "</table>\n",
              "</div>\n",
              "      <button class=\"colab-df-convert\" onclick=\"convertToInteractive('df-c44d4cb2-a975-4266-ba49-8061f18efe38')\"\n",
              "              title=\"Convert this dataframe to an interactive table.\"\n",
              "              style=\"display:none;\">\n",
              "        \n",
              "  <svg xmlns=\"http://www.w3.org/2000/svg\" height=\"24px\"viewBox=\"0 0 24 24\"\n",
              "       width=\"24px\">\n",
              "    <path d=\"M0 0h24v24H0V0z\" fill=\"none\"/>\n",
              "    <path d=\"M18.56 5.44l.94 2.06.94-2.06 2.06-.94-2.06-.94-.94-2.06-.94 2.06-2.06.94zm-11 1L8.5 8.5l.94-2.06 2.06-.94-2.06-.94L8.5 2.5l-.94 2.06-2.06.94zm10 10l.94 2.06.94-2.06 2.06-.94-2.06-.94-.94-2.06-.94 2.06-2.06.94z\"/><path d=\"M17.41 7.96l-1.37-1.37c-.4-.4-.92-.59-1.43-.59-.52 0-1.04.2-1.43.59L10.3 9.45l-7.72 7.72c-.78.78-.78 2.05 0 2.83L4 21.41c.39.39.9.59 1.41.59.51 0 1.02-.2 1.41-.59l7.78-7.78 2.81-2.81c.8-.78.8-2.07 0-2.86zM5.41 20L4 18.59l7.72-7.72 1.47 1.35L5.41 20z\"/>\n",
              "  </svg>\n",
              "      </button>\n",
              "      \n",
              "  <style>\n",
              "    .colab-df-container {\n",
              "      display:flex;\n",
              "      flex-wrap:wrap;\n",
              "      gap: 12px;\n",
              "    }\n",
              "\n",
              "    .colab-df-convert {\n",
              "      background-color: #E8F0FE;\n",
              "      border: none;\n",
              "      border-radius: 50%;\n",
              "      cursor: pointer;\n",
              "      display: none;\n",
              "      fill: #1967D2;\n",
              "      height: 32px;\n",
              "      padding: 0 0 0 0;\n",
              "      width: 32px;\n",
              "    }\n",
              "\n",
              "    .colab-df-convert:hover {\n",
              "      background-color: #E2EBFA;\n",
              "      box-shadow: 0px 1px 2px rgba(60, 64, 67, 0.3), 0px 1px 3px 1px rgba(60, 64, 67, 0.15);\n",
              "      fill: #174EA6;\n",
              "    }\n",
              "\n",
              "    [theme=dark] .colab-df-convert {\n",
              "      background-color: #3B4455;\n",
              "      fill: #D2E3FC;\n",
              "    }\n",
              "\n",
              "    [theme=dark] .colab-df-convert:hover {\n",
              "      background-color: #434B5C;\n",
              "      box-shadow: 0px 1px 3px 1px rgba(0, 0, 0, 0.15);\n",
              "      filter: drop-shadow(0px 1px 2px rgba(0, 0, 0, 0.3));\n",
              "      fill: #FFFFFF;\n",
              "    }\n",
              "  </style>\n",
              "\n",
              "      <script>\n",
              "        const buttonEl =\n",
              "          document.querySelector('#df-c44d4cb2-a975-4266-ba49-8061f18efe38 button.colab-df-convert');\n",
              "        buttonEl.style.display =\n",
              "          google.colab.kernel.accessAllowed ? 'block' : 'none';\n",
              "\n",
              "        async function convertToInteractive(key) {\n",
              "          const element = document.querySelector('#df-c44d4cb2-a975-4266-ba49-8061f18efe38');\n",
              "          const dataTable =\n",
              "            await google.colab.kernel.invokeFunction('convertToInteractive',\n",
              "                                                     [key], {});\n",
              "          if (!dataTable) return;\n",
              "\n",
              "          const docLinkHtml = 'Like what you see? Visit the ' +\n",
              "            '<a target=\"_blank\" href=https://colab.research.google.com/notebooks/data_table.ipynb>data table notebook</a>'\n",
              "            + ' to learn more about interactive tables.';\n",
              "          element.innerHTML = '';\n",
              "          dataTable['output_type'] = 'display_data';\n",
              "          await google.colab.output.renderOutput(dataTable, element);\n",
              "          const docLink = document.createElement('div');\n",
              "          docLink.innerHTML = docLinkHtml;\n",
              "          element.appendChild(docLink);\n",
              "        }\n",
              "      </script>\n",
              "    </div>\n",
              "  </div>\n",
              "  "
            ],
            "text/plain": [
              "                               value\n",
              "n                          20542.000\n",
              "m                          48804.000\n",
              "k_avg                          4.752\n",
              "edge_length_total        5411966.666\n",
              "edge_length_avg              110.892\n",
              "streets_per_node_avg           2.863\n",
              "intersection_count         16973.000\n",
              "street_length_total      3209541.962\n",
              "street_segment_count       29398.000\n",
              "street_length_avg            109.176\n",
              "circuity_avg                   1.039\n",
              "self_loop_proportion           0.001\n",
              "node_density_km               41.639\n",
              "intersection_density_km       34.404\n",
              "edge_density_km            10970.043\n",
              "street_density_km           6505.734\n",
              "0way_int_count                 0.000\n",
              "1way_int_count              3569.000\n",
              "2way_int_count                46.000\n",
              "3way_int_count             12641.000\n",
              "4way_int_count              4208.000\n",
              "5way_int_count                73.000\n",
              "6way_int_count                 4.000\n",
              "7way_int_count                 1.000\n",
              "0way_int_prop                  0.000\n",
              "1way_int_prop                  0.174\n",
              "2way_int_prop                  0.002\n",
              "3way_int_prop                  0.615\n",
              "4way_int_prop                  0.205\n",
              "5way_int_prop                  0.004\n",
              "6way_int_prop                  0.000\n",
              "7way_int_prop                  0.000"
            ]
          },
          "execution_count": 38,
          "metadata": {},
          "output_type": "execute_result"
        }
      ],
      "source": [
        "# Explodir os dicionários\n",
        "#unpack dicts into individiual keys:values\n",
        "\n",
        "stats = ox.basic_stats(graph, area=area)\n",
        "for k, count in stats[\"streets_per_node_counts\"].items():\n",
        "    stats[\"{}way_int_count\".format(k)] = count\n",
        "for k, proportion in stats[\"streets_per_node_proportions\"].items():\n",
        "    stats[\"{}way_int_prop\".format(k)] = proportion\n",
        "\n",
        "# delete the no longer needed dict elements\n",
        "del stats[\"streets_per_node_counts\"]\n",
        "del stats[\"streets_per_node_proportions\"]\n",
        "\n",
        "# load as a pandas dataframe\n",
        "pandas.DataFrame(pandas.Series(stats, name=\"value\")).round(3)"
      ]
    },
    {
      "cell_type": "markdown",
      "metadata": {
        "id": "uJYaWcOPKTjW"
      },
      "source": [
        "### Estatísticas AVANÇADAS da malha/grafo"
      ]
    },
    {
      "cell_type": "code",
      "execution_count": null,
      "metadata": {
        "id": "Iihz28d3_KNg"
      },
      "outputs": [],
      "source": [
        "# Medidas TOPOLÓGICAS específicas da malha. Juntar os dados gerados aqui nas tabelas a serem exportadas.\n",
        "\n",
        "# 1. Betweenness centrality (centralidade perpasse, entremeamento, \"choice\")\n",
        "bc = nx.betweenness_centrality(ox.get_digraph(graph), weight=\"length\")\n",
        "print(bc)\n",
        "\n",
        "# 2. Closeness centrality (centralidade proximidade, integração)\n",
        "nc = nx.closeness_centrality(ox.get_digraph(graph), weight=\"length\")\n",
        "print(nc)"
      ]
    },
    {
      "cell_type": "code",
      "execution_count": null,
      "metadata": {
        "id": "GeJVd09tdVCb"
      },
      "outputs": [],
      "source": [
        "# Nós e arestas [sistema viário como grafo]\n",
        "nodes, edges = ox.graph_to_gdfs(graph)"
      ]
    },
    {
      "cell_type": "markdown",
      "metadata": {
        "id": "i_19I6wGi_uV"
      },
      "source": [
        "## Medidas de rede específicas da rede/malha cicloviária\n"
      ]
    },
    {
      "cell_type": "code",
      "execution_count": null,
      "metadata": {
        "id": "ygL0_7i2QlOf"
      },
      "outputs": [],
      "source": [
        "#grafo da malha cicloviária da cidade\n",
        "bike = ox.graph_from_place(cidade, network_type='bike')"
      ]
    },
    {
      "cell_type": "code",
      "execution_count": null,
      "metadata": {
        "colab": {
          "base_uri": "https://localhost:8080/"
        },
        "id": "S-5RR153SC4j",
        "outputId": "3a551089-c2e5-467f-e349-eb941f55e954"
      },
      "outputs": [
        {
          "name": "stdout",
          "output_type": "stream",
          "text": [
            "{'n': 37231, 'm': 86612, 'k_avg': 4.652681904864226, 'edge_length_total': 7326340.913999985, 'edge_length_avg': 84.58805839837419, 'streets_per_node_avg': 2.702291101501437, 'streets_per_node_counts': {0: 0, 1: 8594, 2: 92, 3: 22572, 4: 5767, 5: 191, 6: 13, 7: 2}, 'streets_per_node_proportions': {0: 0.0, 1: 0.23082914775321642, 2: 0.0024710590636834897, 3: 0.6062689694072144, 4: 0.15489780022024657, 5: 0.005130133490908114, 6: 0.0003491713894335366, 7: 5.3718675297467166e-05}, 'intersection_count': 28637, 'street_length_total': 4169046.039000013, 'street_segment_count': 50307, 'street_length_avg': 82.87208617091086, 'circuity_avg': 1.0529855614735821, 'self_loop_proportion': 0.0015703580018685272}\n"
          ]
        }
      ],
      "source": [
        "#estatisticas das ciclovias\n",
        "bike_stats = ox.stats.basic_stats(bike)\n",
        "print(bike_stats)"
      ]
    },
    {
      "cell_type": "markdown",
      "metadata": {
        "id": "c5igIRd3K8xH"
      },
      "source": [
        "## Tráfego"
      ]
    },
    {
      "cell_type": "code",
      "execution_count": null,
      "metadata": {
        "colab": {
          "base_uri": "https://localhost:8080/"
        },
        "id": "v0GkEP2MHgt8",
        "outputId": "d027dc56-f0a8-453c-95bd-2941087eb666"
      },
      "outputs": [
        {
          "name": "stdout",
          "output_type": "stream",
          "text": [
            "14.313670673748952\n"
          ]
        }
      ],
      "source": [
        "# 3.6 proporção de vias arteriais [% do total de vias]\n",
        "tags = {'highway': 'primary'}\n",
        "gdf_art = ox.geometries_from_place(cidade, tags)\n",
        "gdf_art.shape\n",
        "qtd_art = len(gdf_art)\n",
        "tres_seis = qtd_art * 100 / qtd_ruas\n",
        "print(tres_seis)"
      ]
    },
    {
      "cell_type": "code",
      "execution_count": null,
      "metadata": {
        "colab": {
          "base_uri": "https://localhost:8080/"
        },
        "id": "yRJsd3hNIJ6C",
        "outputId": "7b0bc0b4-a356-46ec-d9c2-573921a51d51"
      },
      "outputs": [
        {
          "name": "stdout",
          "output_type": "stream",
          "text": [
            "41.73888733575622\n"
          ]
        }
      ],
      "source": [
        "# 3.7 proporção de vias locais [% do total de vias]\n",
        "tags = {'highway': 'tertiary'}\n",
        "gdf_loc = ox.geometries_from_place(cidade, tags)\n",
        "gdf_loc.shape\n",
        "qtd_loc = len(gdf_loc)\n",
        "tres_sete = qtd_loc * 100 / qtd_ruas\n",
        "print(tres_sete)"
      ]
    },
    {
      "cell_type": "code",
      "execution_count": null,
      "metadata": {
        "colab": {
          "base_uri": "https://localhost:8080/"
        },
        "id": "ww63XaPOH5vA",
        "outputId": "dda46e96-41d6-48e0-e6f8-edec7110fb87"
      },
      "outputs": [
        {
          "name": "stdout",
          "output_type": "stream",
          "text": [
            "1.8730779983226167\n"
          ]
        }
      ],
      "source": [
        "# 3.8 proporção de vias p pedestres [% do total de vias]\n",
        "tags = {'highway': 'pedestrian'}\n",
        "gdf_ped = ox.geometries_from_place(cidade, tags)\n",
        "gdf_ped.shape\n",
        "qtd_ped = len(gdf_ped)\n",
        "tres_oito = qtd_ped * 100 / qtd_ruas\n",
        "print(tres_oito)"
      ]
    },
    {
      "cell_type": "code",
      "execution_count": null,
      "metadata": {
        "colab": {
          "base_uri": "https://localhost:8080/"
        },
        "id": "sm7m0RS33Nsv",
        "outputId": "0acb5efd-96a7-41b4-e5c4-cb156a40d4c7"
      },
      "outputs": [
        {
          "name": "stdout",
          "output_type": "stream",
          "text": [
            "1903\n"
          ]
        }
      ],
      "source": [
        "#3.9 Quantidade de semáforos\n",
        "tags = {'highway': 'traffic_signals'}\n",
        "gdf_semaforo = ox.geometries_from_place(cidade, tags)\n",
        "gdf_semaforo.shape\n",
        "tres_nove = len(gdf_semaforo)\n",
        "print(tres_nove)"
      ]
    },
    {
      "cell_type": "code",
      "execution_count": null,
      "metadata": {
        "colab": {
          "base_uri": "https://localhost:8080/"
        },
        "id": "rSFTWStLP6b9",
        "outputId": "2b7c1cf5-6099-452e-b66c-b60abca48f15"
      },
      "outputs": [
        {
          "name": "stdout",
          "output_type": "stream",
          "text": [
            "2726\n"
          ]
        }
      ],
      "source": [
        "#3.10 Quantidade de faixas de pedestre\n",
        "tags = {'highway': 'crossing', 'footway':'crossing'}\n",
        "gdf_semaforo = ox.geometries_from_place(cidade, tags)\n",
        "gdf_semaforo.shape\n",
        "tres_dez = len(gdf_semaforo)\n",
        "print(tres_dez)"
      ]
    },
    {
      "cell_type": "markdown",
      "metadata": {
        "id": "0cpbogyWLCuP"
      },
      "source": [
        "## Topografia/terreno"
      ]
    },
    {
      "cell_type": "code",
      "execution_count": null,
      "metadata": {
        "id": "4pE5ddbzrWRh"
      },
      "outputs": [],
      "source": [
        "#3.11 a 3.17 são medidas de topografia. As API testadas até aqui não tiveram resultados adequados. \n",
        "#é possível, assim como para população até o momento, pesquisar na web e digitar o valor."
      ]
    },
    {
      "cell_type": "code",
      "execution_count": null,
      "metadata": {
        "id": "qKtZV7CorLlV"
      },
      "outputs": [],
      "source": [
        "#3.18 e 3.19 são medidas de rede, ver estatísticas do grafo."
      ]
    },
    {
      "cell_type": "markdown",
      "metadata": {
        "id": "5KiOwseV0ly9"
      },
      "source": [
        "# **4 - SES**"
      ]
    },
    {
      "cell_type": "markdown",
      "metadata": {
        "id": "bC1EJ2KfsOfD"
      },
      "source": [
        "Dados demográficos - idade, raça, sexo - e socioeconômicos: renda, ocupação e escolaridade"
      ]
    },
    {
      "cell_type": "markdown",
      "metadata": {
        "id": "TFCFAw5z0dpL"
      },
      "source": [
        "# **5 - Infraestrutura**"
      ]
    },
    {
      "cell_type": "markdown",
      "metadata": {
        "id": "9QHi6Dsgrrrp"
      },
      "source": [
        "Este conjunto de indicadores se baseia em sua maioria em dados obtidos através dos dados do censo do IBGE, tabela ENTORNO, como quantidade de domicílios com acesso à agua, a tratamento de esgoto, coleta de lixo, etc.\n",
        "\n",
        "Há também indicadores agregados da cidade, como emissão de CO2.\n",
        "\n",
        "Dentre os desafios ao nosso alcance, está a integração dos scripts com os dados disponíveis no GTFS, para análises qualitativas mais complexas de acesso ao transporte público."
      ]
    },
    {
      "cell_type": "code",
      "execution_count": null,
      "metadata": {
        "colab": {
          "base_uri": "https://localhost:8080/"
        },
        "id": "UR2d7PYWyjCi",
        "outputId": "72debc9e-555b-419d-8b65-099d268f3b66"
      },
      "outputs": [
        {
          "name": "stdout",
          "output_type": "stream",
          "text": [
            "1448\n"
          ]
        }
      ],
      "source": [
        "#5.8 Quantidade de pontos de ônibus na cidade\n",
        "tags = {'highway': ['bus_stop']}\n",
        "gdf_bus = ox.geometries_from_place(cidade, tags)\n",
        "gdf_bus.shape\n",
        "cinco_oito = len(gdf_bus)\n",
        "print(cinco_oito)"
      ]
    },
    {
      "cell_type": "code",
      "execution_count": null,
      "metadata": {
        "colab": {
          "base_uri": "https://localhost:8080/"
        },
        "id": "-6cd-A4ixWbO",
        "outputId": "995b5350-298e-4ede-8d72-11d755a58190"
      },
      "outputs": [
        {
          "name": "stdout",
          "output_type": "stream",
          "text": [
            "7538\n"
          ]
        }
      ],
      "source": [
        "#5.14 Quantidade de ruas com calçada na cidade\n",
        "tags = {'highway': ['pedestrian', 'footway', 'path'], 'footway': 'sidewalk', 'sidewalk': ['both', 'left', 'right']}\n",
        "gdf_bus = ox.geometries_from_place(cidade, tags)\n",
        "gdf_bus.shape\n",
        "cinco_catorze = len(gdf_bus)\n",
        "print(cinco_catorze)"
      ]
    }
  ],
  "metadata": {
    "colab": {
      "provenance": [],
      "toc_visible": true,
      "include_colab_link": true
    },
    "kernelspec": {
      "display_name": "Python 3",
      "name": "python3"
    },
    "language_info": {
      "name": "python"
    }
  },
  "nbformat": 4,
  "nbformat_minor": 0
}